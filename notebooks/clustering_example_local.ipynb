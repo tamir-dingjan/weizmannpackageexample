{
 "cells": [
  {
   "cell_type": "markdown",
   "metadata": {},
   "source": [
    "## Clustering pipeline example"
   ]
  },
  {
   "cell_type": "markdown",
   "metadata": {},
   "source": [
    "### Imports and global opts"
   ]
  },
  {
   "cell_type": "code",
   "execution_count": 35,
   "metadata": {},
   "outputs": [],
   "source": [
    "import os\n",
    "\n",
    "import numpy as np\n",
    "from sklearn.cluster import KMeans\n",
    "from sklearn.metrics import silhouette_score\n",
    "from matplotlib import pyplot as plt\n",
    "from tqdm.notebook import tqdm\n",
    "from ipywidgets import interact, widgets\n",
    "\n",
    "opts = {\n",
    "        'mice': ['A12', 'A13', 'A14', 'A15', 'A16', 'A17', 'A18', 'A19', 'A20', 'A21'],\n",
    "        'data_dir': os.path.join(os.path.dirname(os.path.realpath('__file__')), 'data'),\n",
    "        'results_dir': os.path.join(os.path.dirname(os.path.realpath('__file__')), 'results')\n",
    "        }"
   ]
  },
  {
   "cell_type": "markdown",
   "metadata": {},
   "source": [
    "### Local opts, load data, analyze, save results"
   ]
  },
  {
   "cell_type": "code",
   "execution_count": 54,
   "metadata": {},
   "outputs": [
    {
     "data": {
      "application/vnd.jupyter.widget-view+json": {
       "model_id": "ea24de0459bf4bd199c93430445c4ff1",
       "version_major": 2,
       "version_minor": 0
      },
      "text/plain": [
       "  0%|          | 0/10 [00:00<?, ?it/s]"
      ]
     },
     "metadata": {},
     "output_type": "display_data"
    }
   ],
   "source": [
    "# set local opts\n",
    "opts.update({\n",
    "            'min_clusters': 2,\n",
    "            'max_clusters': 10\n",
    "            })\n",
    " \n",
    "for mouse in tqdm(opts['mice']):\n",
    "    # load the subject's data\n",
    "    data = np.load(os.path.join(opts['data_dir'], f'{mouse}_data.npy'))\n",
    "    # find the scores per n_clusters\n",
    "    labels_per_n_clusters = [KMeans(n_clusters=n_clusters).fit(data).labels_\n",
    "                            for n_clusters in range(opts['min_clusters'], opts['max_clusters']+1)]\n",
    "    scores_per_n_clusters = [silhouette_score(data, labels) for labels in labels_per_n_clusters]\n",
    "    # save the scores to file\n",
    "    np.save(os.path.join(opts['results_dir'], f'{mouse}_scores.npy'), scores_per_n_clusters)"
   ]
  },
  {
   "cell_type": "markdown",
   "metadata": {},
   "source": [
    "### Load results, interactive plot, save figure"
   ]
  },
  {
   "cell_type": "code",
   "execution_count": 57,
   "metadata": {},
   "outputs": [
    {
     "data": {
      "application/vnd.jupyter.widget-view+json": {
       "model_id": "73b4bff90841413a82e67d0e0420c0ae",
       "version_major": 2,
       "version_minor": 0
      },
      "text/plain": [
       "interactive(children=(Dropdown(description='Mouse:', options=('all', 'A12', 'A13', 'A14', 'A15', 'A16', 'A17',…"
      ]
     },
     "metadata": {},
     "output_type": "display_data"
    },
    {
     "data": {
      "text/plain": [
       "<function __main__.plot_scores(mouse)>"
      ]
     },
     "execution_count": 57,
     "metadata": {},
     "output_type": "execute_result"
    }
   ],
   "source": [
    "%matplotlib widget\n",
    "\n",
    "# load the scores\n",
    "all_scores = {mouse: np.load(os.path.join(opts['results_dir'], f'{mouse}_scores.npy')) for mouse in opts['mice']}\n",
    "\n",
    "# plot the scores\n",
    "def plot_scores(mouse):\n",
    "    plt.cla()\n",
    "    clusters_range = np.arange(2, 2+len(list(all_scores.values())[0]))\n",
    "    if mouse == 'all':\n",
    "        scores = [all_scores[mouse] for mouse in opts['mice']]\n",
    "        plt.errorbar(clusters_range, np.mean(scores, axis=0), yerr=np.std(scores, axis=0) / \n",
    "                    np.sqrt(len(opts['mice'])), label='all', color='tab:blue')\n",
    "        [plt.plot(clusters_range, all_scores[mouse], alpha=0.25, label=mouse, color='tab:blue') for mouse in opts['mice']]\n",
    "    else:\n",
    "        plt.plot(clusters_range, all_scores[mouse], label=mouse)\n",
    "    plt.xlabel('Num. clusters')\n",
    "    plt.ylabel('Silhouette score')\n",
    "    plt.show()\n",
    "    # add bottom\n",
    "    plt.subplots_adjust(bottom=0.15)\n",
    "    # save figure\n",
    "    plt.savefig(os.path.join(opts['results_dir'], 'scores_plot.svg'))\n",
    "\n",
    "# interact with the plot\n",
    "interact(plot_scores, mouse=widgets.Dropdown(options=['all', *opts['mice']], description='Mouse:'))\n"
   ]
  }
 ],
 "metadata": {
  "kernelspec": {
   "display_name": "base",
   "language": "python",
   "name": "python3"
  },
  "language_info": {
   "codemirror_mode": {
    "name": "ipython",
    "version": 3
   },
   "file_extension": ".py",
   "mimetype": "text/x-python",
   "name": "python",
   "nbconvert_exporter": "python",
   "pygments_lexer": "ipython3",
   "version": "3.9.12"
  },
  "orig_nbformat": 4
 },
 "nbformat": 4,
 "nbformat_minor": 2
}
